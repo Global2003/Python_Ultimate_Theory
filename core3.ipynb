{
 "cells": [
  {
   "cell_type": "markdown",
   "metadata": {},
   "source": [
    "Python data structures:\n",
    "\n",
    "○ String\n",
    "\n",
    "○ List\n",
    "\n",
    "○ Tuple\n",
    "\n",
    "○ Set\n",
    "\n",
    "○ Dictionary"
   ]
  },
  {
   "cell_type": "markdown",
   "metadata": {},
   "source": [
    "# STRINGS\n"
   ]
  },
  {
   "cell_type": "code",
   "execution_count": null,
   "metadata": {},
   "outputs": [],
   "source": [
    "# Modifying strings\n",
    "s4 = \"Python DS \"\n",
    "print(s4.upper()) # Output: PYTHON DS\n",
    "print(s4.lower()) # Output: python ds\n",
    "print(s4.strip()) # Output: Python DS\n",
    "print(s4.replace(\"o\", \"z\")) # Output: Pythzn DS\n",
    "print(s4.replace(\"th\", \"ht\")) # Output: Pyhton DS\n",
    "print(s4.split(\"o\")) # Output: [\"Pyth\", \"n DS \"]\n",
    "print(s4.split(\",\")) # Output: [\"Python DS \"]"
   ]
  },
  {
   "cell_type": "code",
   "execution_count": null,
   "metadata": {},
   "outputs": [],
   "source": [
    "# Escape character in strings\n",
    "○ Single quote\n",
    "■ print(\"It\\'s Tuesday.\") # Output: It's Tuesday.\n",
    "○ Backslash\n",
    "■ print(\"Insert \\\\\") # Output: Insert \\\n",
    "○ Tab\n",
    "■ print(\"Hello,\\tWorld!\") # Output: Hello, World!\n",
    "○ New line\n",
    "■ print(\"Hello,\\n World!\") # Output: Hello,\n",
    "World!"
   ]
  },
  {
   "cell_type": "markdown",
   "metadata": {},
   "source": [
    "# Lists/Set/Tuple/Dictionary:\n",
    "Python Collections are used to store data, for example, lists, dictionaries, sets, and tuples, all of which are built-in collections.\n",
    "\n",
    "Note: An object is mutable = value can change"
   ]
  },
  {
   "cell_type": "markdown",
   "metadata": {},
   "source": [
    "##### Lists are collection of ordered collection of data.\n",
    "      Lists are mutable.\n",
    "      Lists are declared with square braces.\n",
    "      The append() method adds a single item at the end of the list without modifying the original list.\n",
    "      The pop() method removes the item at the given index from the list and returns it.\n",
    "      The sort() method sorts the elements of a given list in a specific ascending or descending order.\n",
    "      index() searches for a given element from the start of the list and returns the lowest index where the element appears.\n",
    "      The count() method returns the number of times the specified element appears in the list.\n",
    "      The reverse() method reverses the elements of the list.\n",
    "\n",
    "##### Tuples are collection of ordered collection of data.\n",
    "      Tuples are immutable.\n",
    "      Tuples are enclosed within parenthesis.\n",
    "      An element cannot be added or removed to the tuple as it is immutable.\n",
    "      Though tuples are ordered, the elements cannot be sorted.\n",
    "      Searches the tuple for a specified value and returns the position of where it was found.\n",
    "      The count() method returns the number of times a specified value occurs in a tuple.\n",
    "      The reverse() method is not defined in tuples, as they are unchangeable\n",
    "\n",
    "##### Sets are collection of un-ordered collection of data.\n",
    "      Sets are mutable and have no duplicate elements.\n",
    "      Sets are represented in curly brackets.\n",
    "      The set add() method adds a given element to a set.\n",
    "      The pop() method removes a random item from the set.\n",
    "      Elements in the set cannot be sorted as they are unordered.\n",
    "      The index of a particular element is not retrieved as they are unordered.\n",
    "      There are no count() methods in sets as they do not allow any duplicates.\n",
    "      The sets are unordered, which refrains from applying the reverse() method\n",
    "\n",
    "##### Dict are collection of un-ordered collection of data.\n",
    "      Dictionaries are mutable and keys do not allow duplicates.\n",
    "      Dictionaries are enclosed in curly brackets in the form of key-value pairs.\n",
    "      The update() method updates the dictionary with the specified key-value pairs\n",
    "      The pop() method removes the specified item from the dictionary.\n",
    "      sorted() method is used to sort the keys in the dictionary by default.\n",
    "      The get() method returns the value of the item with the specified key.\n",
    "      The count() method is not defined in the dictionary.\n",
    "      The elements cannot be reversed, as the items in the dictionary are in the form of key-value pairs"
   ]
  },
  {
   "cell_type": "markdown",
   "metadata": {},
   "source": [
    "# 1. LIST:"
   ]
  },
  {
   "cell_type": "code",
   "execution_count": null,
   "metadata": {},
   "outputs": [],
   "source": [
    "# Various ways to create a list\n",
    "list1=[1,4,\"Gitam\",6,\"college\"]\n",
    "list2=[]  # creates an empty list\n",
    "list3=list((1,2,3))\n",
    "print(list1)\n",
    "print(list2)\n",
    "print(list3)\n",
    "\n",
    "# Example\n",
    "list4=[\"hello\",1,4,8,\"good\"]\n",
    "print(list4)\n",
    "list4[0]=\"morning\"  # assigning values (\"hello\" is replaced with \"morning\")\n",
    "print(list4)\n",
    "print(list4[4])\n",
    "print(list4[-1]) # list also allow negative indexing\n",
    "print(list4[1:4]) # slicing\n",
    "list5=[\"apple\",\"mango\",\"banana\"]\n",
    "print(list4+list5) # list concatenation\n",
    "list5.append(\"strawberry\")   # strawberry is added to the list\n",
    "print(list5)\n",
    "list5.pop()  # removes the last element from the list\n",
    "print(list5)\n",
    "\n",
    "print(len(list4))\n",
    "print(type(list4))\n",
    "list4.clear()\n",
    "\n",
    "for i in list4:\n",
    "print(i)"
   ]
  },
  {
   "cell_type": "code",
   "execution_count": null,
   "metadata": {},
   "outputs": [],
   "source": [
    "# Looping elements\n",
    "prog = [\"Python\", \"Java\"]\n",
    "for i in range(len(prog)):\n",
    "    print(prog[i])\n",
    "\n",
    "'''\n",
    "i = 0\n",
    "while i < len(prog):\n",
    "    print(prog[i])\n",
    "    i = i + 1 '''"
   ]
  },
  {
   "cell_type": "code",
   "execution_count": 2,
   "metadata": {},
   "outputs": [
    {
     "name": "stdout",
     "output_type": "stream",
     "text": [
      "Tues <class 'list'> o <class 'str'>\n",
      "Monday\n",
      "Tuesday\n",
      "Wednesday\n",
      "Thursday\n",
      "Friday\n",
      "5 5\n",
      "W-dn-s\n",
      "Python is interesting!\n",
      "What do you think?\n",
      "FRI\n"
     ]
    }
   ],
   "source": [
    "days = ['Mon', 'Tues', 'Wednes', 'Thurs', 'Fri']\n",
    "day1 = days[0] #Monday\n",
    "\n",
    "print(days[1], type(days), day1[1], type(day1))\n",
    "\n",
    "for d in days:\n",
    "    print(d + \"day\")\n",
    "\n",
    "print(len(days), len(days[-2]))\n",
    "print(days[2].replace(\"e\", \"-\"))\n",
    "\n",
    "days.append(\"Satur\")\n",
    "days.append(\"Sun\")\n",
    "print(\"Python_\\b is interesting!\\nWhat do you think?\")\n",
    "print(d.upper())"
   ]
  },
  {
   "cell_type": "markdown",
   "metadata": {},
   "source": [
    "# 2. TUPLE:"
   ]
  },
  {
   "cell_type": "code",
   "execution_count": null,
   "metadata": {},
   "outputs": [],
   "source": [
    "# Various ways to create a tuple\n",
    "tuple4=(1,2,\"college\",9)\n",
    "tuple5=() # creates an empty tuple\n",
    "tuple6=tuple((1,3,5,9,\"hello\"))\n",
    "print(tuple4)\n",
    "print(tuple5)\n",
    "print(tuple6)\n",
    "\n",
    "# Example\n",
    "tuple1=(\"good\",1,2,3,\"morning\")\n",
    "print(tuple1)\n",
    "print(tuple1[0])  # accessing values using indexing\n",
    "#tuple1[1]=\"change\"  # a value cannot be changed as they are immutable\n",
    "tuple2=(\"orange\",\"grapes\")\n",
    "print(tuple1+tuple2)  # tuples can be concatenated\n",
    "tuple3=(1,2,3)\n",
    "print(type(tuple3))\n",
    "\n",
    "tuple7=(1,2,3,4)\n",
    "# tuple7.pop()    tuple cannot be modified\n",
    "# tuple7.append()  tuple cannot be modified\n",
    "print(tuple7)"
   ]
  },
  {
   "cell_type": "code",
   "execution_count": null,
   "metadata": {},
   "outputs": [],
   "source": [
    "# Unpacking tuple\n",
    "py = (\"Python\", \"Java\", \"C\", \"C++\", \"Spark\")\n",
    "(spyder, eclipse, *codeblock, gnat) = py\n",
    "print(spyder) # Output: Python\n",
    "print(eclipse) # Output: Java\n",
    "print(codeblock) # Output: ['C', 'C++']\n",
    "print(gnat) # Output: Spark\n",
    "py = (\"Python\", \"Java\", \"Spark\")\n",
    "(spyder, eclipse, *codeblock, gnat) = py\n",
    "print(codeblock) # Output: []"
   ]
  },
  {
   "cell_type": "markdown",
   "metadata": {},
   "source": [
    "# 3. SET:\n"
   ]
  },
  {
   "cell_type": "code",
   "execution_count": null,
   "metadata": {},
   "outputs": [],
   "source": [
    "# Various ways to create a Set\n",
    "set1={1,2,3,4,5,\"hello\",\"tup\"}\n",
    "set2={(1,8,\"python\",7)}\n",
    "print(set1)\n",
    "print(set2)\n",
    "\n",
    "# Example\n",
    "set3={1,2,3,4,5}\n",
    "print(set3)\n",
    "# set3[0]   sets are unordered, so it doesnot support indexing\n",
    "set4={3,7,1,6,1} # sets doesnot allow duplicate values\n",
    "print(set4)\n",
    "\n",
    "set5={\"water\",\"air\",\"food\"}\n",
    "set5.add(\"shelter\")   # adds an element to the set at random position\n",
    "print(set5)\n",
    "set5.add(\"clothes\")\n",
    "print(set5)\n",
    "set5.pop()  # removes random element from the set\n",
    "print(set5)"
   ]
  },
  {
   "cell_type": "code",
   "execution_count": null,
   "metadata": {},
   "outputs": [],
   "source": [
    "# Joining sets\n",
    "alph0 = {\"A\", \"B\", \"C\"}\n",
    "alph1 = {\"C\", \"D\", \"E\"}\n",
    "op1 = alph0.union(alph1)\n",
    "print(op1) # Output: {'A', 'B', 'C', 'D', 'E'}\n",
    "op2 = alph0.intersection(alph1)\n",
    "print(op2) # Output: {'C'}\n",
    "alph0.intersection_update(alph1)\n",
    "print(alph0) # Output: {'C'}\n",
    "op3 = alph0.symmetric_difference(alph1)\n",
    "print(op3) # Output: {'A', 'B', 'D', 'E'}\n",
    "alph0.symmetric_difference_update(alph1)\n",
    "print(alph0) # Output: {'A', 'B', 'D', 'E'}"
   ]
  },
  {
   "cell_type": "markdown",
   "metadata": {},
   "source": [
    "# 4. DICTIONARY:\n"
   ]
  },
  {
   "cell_type": "code",
   "execution_count": null,
   "metadata": {},
   "outputs": [],
   "source": [
    "# Various ways to create a dictionary\n",
    "dict1={\"key1\":\"value1\",\"key2\":\"value2\"}\n",
    "dict2={}   # empty dictionary\n",
    "dict3=dict({1:\"apple\",2:\"cherry\",3:\"strawberry\"})\n",
    "print(dict1)\n",
    "print(dict2)\n",
    "print(dict3)\n",
    "\n",
    "# Example\n",
    "dict4={\"key1\":1,\"key2\":\"value2\",3:\"value3\"}\n",
    "print(dict4.keys())  # all the keys are printed\n",
    "dict4.values() # all the values are printed\n",
    "dict4[\"key1\"]=\"replace_one\"  # value assigned to key1 is replaced\n",
    "print(dict4)\n",
    "print(dict4[\"key2\"])\n",
    "\n",
    "# Example\n",
    "dict5={\"fruit1\":\"apple\",\"fruit2\":\"banana\",\"veg1\":\"tomato\"}\n",
    "dict5.update({\"veg2\":\"brinjal\"})\n",
    "print(dict5)\n",
    "dict5.update({\"veg3\":\"chilli\"})  # updates the dictionary at the end\n",
    "print(dict5)\n",
    "dict5.pop(\"veg2\")\n",
    "print(dict5)"
   ]
  },
  {
   "cell_type": "code",
   "execution_count": null,
   "metadata": {},
   "outputs": [],
   "source": [
    "list1=[1,5,3,9,\"apple\"]\n",
    "print(list1.index(9)) # returns the index value of the particular element\n",
    "list2=[2,7,8,7]\n",
    "print(list2.index(7)) # returns the index value of the element at its first occurence\n",
    "print(list2.index(7,2)) # returns the index value of the element from the particular start position given\n",
    "\n",
    "\n",
    "tuple1=(1,3,6,7,9,10)\n",
    "print(tuple1.index(6))\n",
    "print(tuple1.index(9))\n",
    "\n",
    "\n",
    "set1={1,5,6,3,9}\n",
    "# set1.index()  will throw an error as they are unordered\n",
    "\n",
    "\n",
    "dict1={\"key1\":\"value1\",\"key2\":\"value2\"}\n",
    "# dict1.index(\"key1\") will throw an error\n",
    "print(dict1.get(\"key1\"))"
   ]
  },
  {
   "cell_type": "code",
   "execution_count": 4,
   "metadata": {},
   "outputs": [
    {
     "name": "stdout",
     "output_type": "stream",
     "text": [
      "[2, 4, 6, 8, 10]\n"
     ]
    }
   ],
   "source": [
    "# filter()\n",
    "numbers = [1, 2, 3, 4, 5, 6, 7, 8, 9, 10]\n",
    "\n",
    "# returns True if number is even\n",
    "def check_even(number):\n",
    "    if number % 2 == 0:\n",
    "        return True  \n",
    "\n",
    "    return False\n",
    "\n",
    "# Extract elements from the numbers list for which check_even() returns True\n",
    "even_numbers_iterator = filter(check_even, numbers)\n",
    "\n",
    "# converting to list\n",
    "even_numbers = list(even_numbers_iterator)\n",
    "\n",
    "print(even_numbers)\n",
    "\n",
    "# Output: [2, 4, 6, 8, 10]"
   ]
  },
  {
   "cell_type": "code",
   "execution_count": 5,
   "metadata": {},
   "outputs": [
    {
     "name": "stdout",
     "output_type": "stream",
     "text": [
      "a=75, b=65, 75 + 65 =140\n",
      "a=140, b=80, 140 + 80 =220\n",
      "a=220, b=95, 220 + 95 =315\n",
      "a=315, b=50, 315 + 50 =365\n",
      "365\n"
     ]
    }
   ],
   "source": [
    "#reduce()\n",
    "from functools import reduce\n",
    "\n",
    "def sum(a, b):\n",
    "    print(f\"a={a}, b={b}, {a} + {b} ={a+b}\")\n",
    "    return a + b\n",
    "\n",
    "scores = [75, 65, 80, 95, 50]\n",
    "total = reduce(sum, scores)\n",
    "print(total)"
   ]
  },
  {
   "cell_type": "code",
   "execution_count": 1,
   "metadata": {},
   "outputs": [
    {
     "name": "stdout",
     "output_type": "stream",
     "text": [
      "365\n"
     ]
    }
   ],
   "source": [
    "from functools import reduce\n",
    "\n",
    "scores = [75, 65, 80, 95, 50]\n",
    "\n",
    "total = reduce(lambda a, b: a + b, scores)\n",
    "\n",
    "print(total)"
   ]
  },
  {
   "cell_type": "code",
   "execution_count": null,
   "metadata": {},
   "outputs": [],
   "source": [
    "# exercise\n",
    "details = {'id': 1, 'name': 'chair', 'weight': 500}\n",
    "print(details)\n",
    "\n",
    "details.update({'weight': 550})\n",
    "print(details.keys())\n",
    "print(details.values())\n",
    "\n",
    "for d, v in details.items():\n",
    "    print(d, v)\n",
    "\n",
    "details['name'] = 'table'\n",
    "print(details)\n",
    "\n",
    "details.clear()\n",
    "print(details)"
   ]
  }
 ],
 "metadata": {
  "kernelspec": {
   "display_name": "Python 3.9.12 ('base')",
   "language": "python",
   "name": "python3"
  },
  "language_info": {
   "codemirror_mode": {
    "name": "ipython",
    "version": 3
   },
   "file_extension": ".py",
   "mimetype": "text/x-python",
   "name": "python",
   "nbconvert_exporter": "python",
   "pygments_lexer": "ipython3",
   "version": "3.9.12"
  },
  "orig_nbformat": 4,
  "vscode": {
   "interpreter": {
    "hash": "e646e3513d9b507ac942b38379c7c22444e9458dd8d251339d12aef3346bcb59"
   }
  }
 },
 "nbformat": 4,
 "nbformat_minor": 2
}
